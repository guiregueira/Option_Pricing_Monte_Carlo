{
 "cells": [
  {
   "cell_type": "markdown",
   "id": "698c0c6d",
   "metadata": {},
   "source": [
    "# Monte Carlo Variance Reduction"
   ]
  },
  {
   "cell_type": "markdown",
   "id": "a89d219a",
   "metadata": {},
   "source": [
    "Objective of reduce the variance of results from a Monte Carlo Simulation when valuing derivatives, references: Implementing Derivatives Models"
   ]
  },
  {
   "cell_type": "markdown",
   "id": "c9f108c0",
   "metadata": {},
   "source": [
    "# 1.0 Import Libraries"
   ]
  },
  {
   "cell_type": "code",
   "execution_count": 49,
   "id": "d1a3a5dc",
   "metadata": {},
   "outputs": [],
   "source": [
    "import numpy as np\n",
    "import pandas as pd\n",
    "import math\n",
    "import datetime\n",
    "import scipy.stats as stats\n",
    "import matplotlib.pyplot as plt"
   ]
  },
  {
   "cell_type": "markdown",
   "id": "753985fc",
   "metadata": {},
   "source": [
    "# 2.0 Set Parameters"
   ]
  },
  {
   "cell_type": "markdown",
   "id": "017c64f8",
   "metadata": {},
   "source": [
    "Let´s Write 2 options contracts in differents assets, thais is perfectly negatively correlated ( VIX & SP500 as example), imagine that the 2 assets have the same price at the moment "
   ]
  },
  {
   "cell_type": "code",
   "execution_count": 50,
   "id": "6b51c422",
   "metadata": {},
   "outputs": [
    {
     "name": "stdout",
     "output_type": "stream",
     "text": [
      "0.1643835616438356\n"
     ]
    }
   ],
   "source": [
    "# parameters\n",
    "S=101.15\n",
    "K=98.01\n",
    "vol=0.0991\n",
    "r=0.015\n",
    "N=10 # time steps\n",
    "M=1000 # simulations\n",
    "\n",
    "value=3.86 # Market Price of Option\n",
    "\n",
    "T=((datetime.date(2022,3,17)-datetime.date(2022,1,17)).days+1)/365 # Days to Expiration\n",
    "h=T\n",
    "print(T)"
   ]
  },
  {
   "cell_type": "markdown",
   "id": "165b5f45",
   "metadata": {},
   "source": [
    "# 3.0 Solution"
   ]
  },
  {
   "cell_type": "code",
   "execution_count": 53,
   "id": "760a8e05",
   "metadata": {},
   "outputs": [
    {
     "name": "stdout",
     "output_type": "stream",
     "text": [
      "Price of Call: 3.83 and Error +- 0.03\n"
     ]
    }
   ],
   "source": [
    "\n",
    "N=1\n",
    "dt=T/N\n",
    "nudt=(r-0.5*vol**2)*dt\n",
    "volsdt=vol*np.sqrt(dt)\n",
    "lnS=np.log(S)\n",
    "#Monte Carlo:\n",
    "Z=np.random.normal(size=(N,M))\n",
    "delta_lnSt1=nudt+volsdt*Z\n",
    "delta_lnSt2=nudt-volsdt*Z\n",
    "lnSt1=lnS+np.cumsum(delta_lnSt1,axis=0)\n",
    "lnSt2=lnS+np.cumsum(delta_lnSt2,axis=0)\n",
    "# expectations\n",
    "ST1=np.exp(lnSt1)\n",
    "ST2=np.exp(lnSt2)\n",
    "CT=0.5*(np.maximum(0,ST1[-1]-K)+np.maximum(0,ST2[-1]-K))\n",
    "C0=np.exp(-r*T)*np.sum(CT)/M\n",
    "sigma=np.sqrt(np.sum((CT-C0)**2)/(M-1))\n",
    "SE=sigma/math.sqrt(M)\n",
    "print(f\"Price of Call: {C0:.2f} and Error +- {SE:.2f}\")"
   ]
  },
  {
   "cell_type": "markdown",
   "id": "1a54a7e3",
   "metadata": {},
   "source": [
    "# Simple Black & Scholes"
   ]
  },
  {
   "cell_type": "code",
   "execution_count": 54,
   "id": "5bdb269d",
   "metadata": {},
   "outputs": [
    {
     "data": {
      "text/plain": [
       "(x, y, z, S, q, T, r, K, v)"
      ]
     },
     "execution_count": 54,
     "metadata": {},
     "output_type": "execute_result"
    }
   ],
   "source": [
    "from sympy import *\n",
    "import sympy as sp\n",
    "x, y ,z, S, q, T, r,K,v =sp.symbols(\"x y z S q T r K v \")\n",
    "(x,y,z,S,q,T,r,K,v)\n"
   ]
  },
  {
   "cell_type": "code",
   "execution_count": 55,
   "id": "d3a42190",
   "metadata": {},
   "outputs": [
    {
     "data": {
      "text/latex": [
       "$\\displaystyle - K \\left(0.5 \\operatorname{erf}{\\left(\\frac{\\sqrt{2} \\left(- \\sqrt{T} v + \\frac{T \\left(- q + r + 0.5 v^{2}\\right) + \\log{\\left(\\frac{S}{K} \\right)}}{\\sqrt{T} v}\\right)}{2} \\right)} + 0.5\\right) e^{- T r} + S \\left(0.5 \\operatorname{erf}{\\left(\\frac{\\sqrt{2} \\left(T \\left(- q + r + 0.5 v^{2}\\right) + \\log{\\left(\\frac{S}{K} \\right)}\\right)}{2 \\sqrt{T} v} \\right)} + 0.5\\right) e^{- T q}$"
      ],
      "text/plain": [
       "-K*(0.5*erf(sqrt(2)*(-sqrt(T)*v + (T*(-q + r + 0.5*v**2) + log(S/K))/(sqrt(T)*v))/2) + 0.5)*exp(-T*r) + S*(0.5*erf(sqrt(2)*(T*(-q + r + 0.5*v**2) + log(S/K))/(2*sqrt(T)*v)) + 0.5)*exp(-T*q)"
      ]
     },
     "execution_count": 55,
     "metadata": {},
     "output_type": "execute_result"
    }
   ],
   "source": [
    "def CDF(value):\n",
    "    CDF = integrate((1/sqrt(2*pi*1))*exp(-1*((x-0)**2)/(2*1**2)),(x,-oo,value))\n",
    "    return(N(CDF))\n",
    "d1=(ln(S/K)+(r-q+0.5*v**2)*T)/(v*sqrt(T))\n",
    "d2=d1-v*sqrt(T)\n",
    "black_scholes_call= S*exp(-q*T)*CDF(d1)-exp(-r*T)*K*CDF(d2)\n",
    "black_scholes_put= exp(-r*T)*K*CDF(-d2) -S*exp(-q*T) *CDF(-d1)\n",
    "black_scholes_call "
   ]
  },
  {
   "cell_type": "code",
   "execution_count": 56,
   "id": "efcd0a6d",
   "metadata": {},
   "outputs": [
    {
     "name": "stdout",
     "output_type": "stream",
     "text": [
      "3.82371240251315\n"
     ]
    }
   ],
   "source": [
    "print(N(black_scholes_call.subs(K,98.01).subs(S,101.15).subs(v,0.0991).subs(T,h).subs(q,0).subs(r,0.015)))"
   ]
  },
  {
   "cell_type": "markdown",
   "id": "03a1358d",
   "metadata": {},
   "source": [
    "The prices aproximate..."
   ]
  }
 ],
 "metadata": {
  "kernelspec": {
   "display_name": "Python 3 (ipykernel)",
   "language": "python",
   "name": "python3"
  },
  "language_info": {
   "codemirror_mode": {
    "name": "ipython",
    "version": 3
   },
   "file_extension": ".py",
   "mimetype": "text/x-python",
   "name": "python",
   "nbconvert_exporter": "python",
   "pygments_lexer": "ipython3",
   "version": "3.9.7"
  }
 },
 "nbformat": 4,
 "nbformat_minor": 5
}
